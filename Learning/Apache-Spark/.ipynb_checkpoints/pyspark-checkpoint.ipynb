{
 "cells": [
  {
   "cell_type": "code",
   "execution_count": 1,
   "id": "911a7abf",
   "metadata": {},
   "outputs": [
    {
     "name": "stdout",
     "output_type": "stream",
     "text": [
      "3.1.2\n"
     ]
    },
    {
     "data": {
      "text/plain": [
       "DataFrame[id: int, name: string]"
      ]
     },
     "execution_count": 1,
     "metadata": {},
     "output_type": "execute_result"
    }
   ],
   "source": [
    "# import os\n",
    "\n",
    "# os.environ['PYSPARK_SUBMIT_ARGS'] = '--driver-class-path /Users/deependrashekhawat/jars/postgresql-42.2.21.jar --jars /Users/deependrashekhawat/jars/postgresql-42.2.21.jar pyspark-shell'\n",
    "\n",
    "\n",
    "# from pyspark import SparkContext, SparkConf\n",
    "\n",
    "# conf = SparkConf()\n",
    "# conf.setMaster(\"local[*]\")\n",
    "# conf.setAppName('pyspark')\n",
    "\n",
    "# sc = SparkContext(conf=conf)\n",
    "# print(sc.version)\n",
    "\n",
    "# from pyspark.sql import SQLContext\n",
    "\n",
    "# properties = {\n",
    "#     \"driver\": \"org.postgresql.Driver\"\n",
    "# }\n",
    "# url = 'jdbc:postgresql://localhost:5434/postgres'\n",
    "\n",
    "# sqlContext = SQLContext(sc)\n",
    "# sqlContext.read \\\n",
    "#     .format(\"jdbc\") \\\n",
    "#     .option(\"url\", url) \\\n",
    "#     .option(\"driver\", properties[\"driver\"]) \\\n",
    "#     .option(\"dbtable\", \"student\") \\\n",
    "#     .load()"
   ]
  },
  {
   "cell_type": "code",
   "execution_count": 3,
   "id": "a3a54248",
   "metadata": {},
   "outputs": [
    {
     "name": "stdout",
     "output_type": "stream",
     "text": [
      "+---+----+\n",
      "| id|name|\n",
      "+---+----+\n",
      "|  1|deep|\n",
      "+---+----+\n",
      "\n"
     ]
    }
   ],
   "source": [
    "# df = sqlContext.read \\\n",
    "#     .format(\"jdbc\") \\\n",
    "#     .option(\"url\", url) \\\n",
    "#     .option(\"driver\", properties[\"driver\"]) \\\n",
    "#     .option(\"dbtable\", \"student\") \\\n",
    "#     .load()\n",
    "# df.show()"
   ]
  },
  {
   "cell_type": "code",
   "execution_count": 2,
   "id": "952fc8a0",
   "metadata": {},
   "outputs": [],
   "source": [
    "# sc.stop()"
   ]
  },
  {
   "cell_type": "code",
   "execution_count": 22,
   "id": "bf968f0b",
   "metadata": {},
   "outputs": [],
   "source": [
    "from pyspark.sql import SparkSession\n",
    "\n",
    "# the Spark session should be instantiated as follows\n",
    "spark = SparkSession \\\n",
    "    .builder \\\n",
    "    .appName(\"Python Spark SQL basic example\") \\\n",
    "    .config(\"spark.jars\", \"/Users/deependrashekhawat/jars/postgresql-42.2.21.jar\") \\\n",
    "    .getOrCreate()"
   ]
  },
  {
   "cell_type": "code",
   "execution_count": 23,
   "id": "31aa9764",
   "metadata": {},
   "outputs": [],
   "source": [
    "jdbcDF2 = spark.read \\\n",
    "    .format(\"jdbc\") \\\n",
    "    .option(\"url\", \"jdbc:postgresql://localhost:5432/hotel\")\\\n",
    "    .option(\"dbtable\", \"guest\") \\\n",
    "    .option(\"user\", \"postgres\") \\\n",
    "    .option(\"password\", \"Welcome@1\") \\\n",
    "    .option(\"driver\", \"org.postgresql.Driver\") \\\n",
    "    .load()"
   ]
  },
  {
   "cell_type": "code",
   "execution_count": 24,
   "id": "8aa3cb21",
   "metadata": {},
   "outputs": [
    {
     "name": "stdout",
     "output_type": "stream",
     "text": [
      "+-------+--------------------+--------------------+--------------------+---------------------+\n",
      "|guestno|           guestname|        guestaddress|guestcityofresidance|gueststeteofresidance|\n",
      "+-------+--------------------+--------------------+--------------------+---------------------+\n",
      "|      1|       Odom, Paki D.|  1560 Fringilla St.|               Dover|             Delaware|\n",
      "|      2|     Wilson, Paki U.|      6346 Ipsum St.|          South Bend|              Indiana|\n",
      "|      3|  Newton, Shelley H.|  900-2226 Lorem Ave|                Mesa|              Arizona|\n",
      "|      4|     Lang, Tashya H.|Ap #577-6930 Vari...|        Jacksonville|                   FL|\n",
      "|      5|   Ramirez, Wynne I.|      6941 Elit, Rd.|           Cleveland|                 Ohio|\n",
      "|      6|       Ray, Conan U.|      8480 Vel, Road|    West Valley City|                   UT|\n",
      "|      7|   Jimenez, Jolie E.|  154-4388 Ipsum Av.|            Stamford|                   CT|\n",
      "|      8|  Odonnell, Garth R.|    5804 Ante Street|          Chesapeake|             Virginia|\n",
      "|      9|      Allen, Clio R.|     7726 Dui Avenue|        Fayetteville|             Arkansas|\n",
      "|     10|        Pace, Ray E.| 211-9447 Tellus Rd.|           Baltimore|             Maryland|\n",
      "|     11|Macdonald, Karina Z.| Ap #736-484 Et, Rd.|              Juneau|                   AK|\n",
      "|     12|      Lewis, Eden X.|Ap #945-1150 Augu...|          Bridgeport|          Connecticut|\n",
      "|     13|     Fields, Lani L.|P.O. Box 648, 141...|           Owensboro|                   KY|\n",
      "|     14|    Holder, Brady J.| 3802 Adipiscing Av.|              Eugene|                   OR|\n",
      "|     15|    Murray, Sasha E.|   247 Ridiculus Rd.|              Mobile|              Alabama|\n",
      "|     16|   Warren, Quemby X.|P.O. Box 706, 326...|               Dover|                   DE|\n",
      "|     17|   Meyers, Thomas U.|Ap #647-605 Tinci...|           Rockville|             Maryland|\n",
      "|     18|  Hansen, Isadora I.|P.O. Box 792, 855...|              Kailua|                   HI|\n",
      "|     19|      Golden, Rae B.|Ap #895-608 Sempe...|          Tuscaloosa|              Alabama|\n",
      "|     20|Contreras, Oliver G.|P.O. Box 727, 608...|              Tucson|                   AZ|\n",
      "+-------+--------------------+--------------------+--------------------+---------------------+\n",
      "only showing top 20 rows\n",
      "\n"
     ]
    }
   ],
   "source": [
    "jdbcDF2.show()"
   ]
  },
  {
   "cell_type": "code",
   "execution_count": 25,
   "id": "7f23ea3d-596b-49d9-b820-2c0065b1d9da",
   "metadata": {},
   "outputs": [],
   "source": [
    "df = spark.read \\\n",
    "    .csv(\"/Users/deependrashekhawat/Documents/BU/Semesters/Sem3/Project/PostgreSQL_DB/MA.csv\", header=True)"
   ]
  },
  {
   "cell_type": "code",
   "execution_count": 29,
   "id": "df6617a7-b872-44f7-b103-4c8e35f7e785",
   "metadata": {},
   "outputs": [],
   "source": [
    "spark.stop()"
   ]
  },
  {
   "cell_type": "code",
   "execution_count": null,
   "id": "fb6d205b-63f6-4f96-8877-29bc39d9b0d5",
   "metadata": {},
   "outputs": [],
   "source": []
  }
 ],
 "metadata": {
  "kernelspec": {
   "display_name": "Python 3",
   "language": "python",
   "name": "python3"
  },
  "language_info": {
   "codemirror_mode": {
    "name": "ipython",
    "version": 3
   },
   "file_extension": ".py",
   "mimetype": "text/x-python",
   "name": "python",
   "nbconvert_exporter": "python",
   "pygments_lexer": "ipython3",
   "version": "3.8.8"
  }
 },
 "nbformat": 4,
 "nbformat_minor": 5
}
