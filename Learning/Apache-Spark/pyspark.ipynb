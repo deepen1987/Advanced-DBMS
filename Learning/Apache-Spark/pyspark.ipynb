{
 "cells": [
  {
   "cell_type": "code",
   "execution_count": 1,
   "id": "911a7abf",
   "metadata": {},
   "outputs": [
    {
     "name": "stdout",
     "output_type": "stream",
     "text": [
      "3.1.2\n"
     ]
    },
    {
     "data": {
      "text/plain": [
       "DataFrame[id: int, name: string]"
      ]
     },
     "execution_count": 1,
     "metadata": {},
     "output_type": "execute_result"
    }
   ],
   "source": [
    "# import os\n",
    "\n",
    "# os.environ['PYSPARK_SUBMIT_ARGS'] = '--driver-class-path /Users/deependrashekhawat/jars/postgresql-42.2.21.jar --jars /Users/deependrashekhawat/jars/postgresql-42.2.21.jar pyspark-shell'\n",
    "\n",
    "\n",
    "# from pyspark import SparkContext, SparkConf\n",
    "\n",
    "# conf = SparkConf()\n",
    "# conf.setMaster(\"local[*]\")\n",
    "# conf.setAppName('pyspark')\n",
    "\n",
    "# sc = SparkContext(conf=conf)\n",
    "# print(sc.version)\n",
    "\n",
    "# from pyspark.sql import SQLContext\n",
    "\n",
    "# properties = {\n",
    "#     \"driver\": \"org.postgresql.Driver\"\n",
    "# }\n",
    "# url = 'jdbc:postgresql://localhost:5434/postgres'\n",
    "\n",
    "# sqlContext = SQLContext(sc)\n",
    "# sqlContext.read \\\n",
    "#     .format(\"jdbc\") \\\n",
    "#     .option(\"url\", url) \\\n",
    "#     .option(\"driver\", properties[\"driver\"]) \\\n",
    "#     .option(\"dbtable\", \"student\") \\\n",
    "#     .load()"
   ]
  },
  {
   "cell_type": "code",
   "execution_count": 3,
   "id": "a3a54248",
   "metadata": {},
   "outputs": [
    {
     "name": "stdout",
     "output_type": "stream",
     "text": [
      "+---+----+\n",
      "| id|name|\n",
      "+---+----+\n",
      "|  1|deep|\n",
      "+---+----+\n",
      "\n"
     ]
    }
   ],
   "source": [
    "# df = sqlContext.read \\\n",
    "#     .format(\"jdbc\") \\\n",
    "#     .option(\"url\", url) \\\n",
    "#     .option(\"driver\", properties[\"driver\"]) \\\n",
    "#     .option(\"dbtable\", \"student\") \\\n",
    "#     .load()\n",
    "# df.show()"
   ]
  },
  {
   "cell_type": "code",
   "execution_count": 2,
   "id": "952fc8a0",
   "metadata": {},
   "outputs": [],
   "source": [
    "# sc.stop()"
   ]
  },
  {
   "cell_type": "code",
   "execution_count": 1,
   "id": "bf968f0b",
   "metadata": {},
   "outputs": [],
   "source": [
    "from pyspark.sql import SparkSession\n",
    "\n",
    "# the Spark session should be instantiated as follows\n",
    "spark = SparkSession \\\n",
    "    .builder \\\n",
    "    .appName(\"Python Spark SQL basic example\") \\\n",
    "    .config(\"spark.jars\", \"/Users/deependrashekhawat/jars/postgresql-42.2.21.jar\") \\\n",
    "    .getOrCreate()"
   ]
  },
  {
   "cell_type": "code",
   "execution_count": 4,
   "id": "31aa9764",
   "metadata": {},
   "outputs": [],
   "source": [
    "jdbcDF2 = spark.read \\\n",
    "    .format(\"jdbc\") \\\n",
    "    .option(\"url\", \"jdbc:postgresql://localhost:5432/netflix\")\\\n",
    "    .option(\"dbtable\", \"rental\") \\\n",
    "    .option(\"user\", \"postgres\") \\\n",
    "    .option(\"password\", \"Welcome@1\") \\\n",
    "    .option(\"driver\", \"org.postgresql.Driver\") \\\n",
    "    .load()"
   ]
  },
  {
   "cell_type": "code",
   "execution_count": 5,
   "id": "8aa3cb21",
   "metadata": {},
   "outputs": [
    {
     "name": "stdout",
     "output_type": "stream",
     "text": [
      "+--------+--------+-----+-------------------+-------------------+-------------------+\n",
      "|rentalid|memberid|dvdid|  rentalrequestdate|  rentalshippeddate| rentalreturneddate|\n",
      "+--------+--------+-----+-------------------+-------------------+-------------------+\n",
      "|       6|      15|    1|2019-02-12 00:00:00|2019-02-12 00:00:00|2019-02-21 00:00:00|\n",
      "|       9|       1|    4|2021-02-12 00:00:00|2021-02-12 00:00:00|2021-02-21 00:00:00|\n",
      "|       2|       1|    6|2018-02-12 00:00:00|2018-02-12 00:00:00|2018-02-21 00:00:00|\n",
      "|      10|      15|    7|2021-02-12 00:00:00|2021-02-12 00:00:00|2021-02-21 00:00:00|\n",
      "|      11|      15|    1|2021-02-12 00:00:00|2021-02-12 00:00:00|2021-02-21 00:00:00|\n",
      "|       1|       1|    4|2018-01-12 00:00:00|2018-01-12 00:00:00|2018-01-21 00:00:00|\n",
      "|      12|      15|    2|2021-03-12 00:00:00|2021-03-12 00:00:00|2021-03-21 00:00:00|\n",
      "|       4|       5|    4|2020-11-02 00:00:00|2020-11-02 00:00:00|2020-11-09 00:00:00|\n",
      "|       5|       5|    5|2020-06-15 00:00:00|2020-06-15 00:00:00|2020-06-19 00:00:00|\n",
      "|       8|       8|    2|2020-06-20 00:00:00|2020-06-20 00:00:00|2020-06-21 00:00:00|\n",
      "|       3|       1|    3|2020-06-20 00:00:00|2020-06-20 00:00:00|2020-06-21 00:00:00|\n",
      "|       7|       9|    2|2020-06-20 00:00:00|2020-06-20 00:00:00|2020-06-21 00:00:00|\n",
      "+--------+--------+-----+-------------------+-------------------+-------------------+\n",
      "\n"
     ]
    }
   ],
   "source": [
    "jdbcDF2.show()"
   ]
  }
 ],
 "metadata": {
  "kernelspec": {
   "display_name": "Python 3",
   "language": "python",
   "name": "python3"
  },
  "language_info": {
   "codemirror_mode": {
    "name": "ipython",
    "version": 3
   },
   "file_extension": ".py",
   "mimetype": "text/x-python",
   "name": "python",
   "nbconvert_exporter": "python",
   "pygments_lexer": "ipython3",
   "version": "3.8.8"
  }
 },
 "nbformat": 4,
 "nbformat_minor": 5
}
